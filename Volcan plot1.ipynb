{
 "cells": [
  {
   "cell_type": "code",
   "execution_count": null,
   "metadata": {
    "collapsed": true
   },
   "outputs": [],
   "source": []
  },
  {
   "cell_type": "code",
   "execution_count": 4,
   "metadata": {},
   "outputs": [
    {
     "name": "stdout",
     "output_type": "stream",
     "text": [
      "555\n",
      "                 p_value  fold_changes\n",
      "Gene Symbol                           \n",
      "CH507-513H4.4   0.000050       2.70812\n",
      "THSD4           0.000548      -2.62572\n",
      "UGT1A2P         0.000780      -3.33145\n",
      "IRGM            0.000830       8.68940\n",
      "ADRA1B          0.001079      -3.38093\n",
      "EGFR-AS1        0.001128      -2.62969\n",
      "RP11-771F20.1   0.001146      -7.03301\n",
      "AC114812.5      0.001345      -2.71791\n",
      "TRIM69          0.001421       3.39565\n",
      "FMO6P           0.001564      -2.20674\n",
      "PCK1            0.001630      -3.73049\n",
      "IL2RA           0.001631       3.18580\n",
      "HOXD1           0.002000      -2.22082\n",
      "IGHV2-5         0.002094      10.96930\n",
      "SH2D2A          0.002348       2.26905\n",
      "RPS3AP39        0.002439      -3.15498\n",
      "SLC25A42        0.002445      -2.08338\n",
      "FOXD1           0.002459      -2.78817\n",
      "RP11-198M15.1   0.002591      21.35050\n",
      "UGT1A7          0.002685      -2.83510\n",
      "RP11-84H6.1     0.002865      -3.47239\n",
      "TNFSF9          0.002973       7.78269\n",
      "NPY1R           0.002976      -2.97875\n",
      "UGT1A6          0.003084      -2.20488\n",
      "PTPRG-AS1       0.003216      17.24170\n",
      "NEU4            0.003261      -2.80371\n",
      "SERPINF2        0.003294      -2.11323\n",
      "PPIEL           0.003331      -3.14491\n",
      "RIMS2           0.003362      -2.25195\n",
      "SPIB            0.003445      -2.39215\n",
      "...                  ...           ...\n",
      "IGLC3           0.046839       4.37674\n",
      "DENND2C         0.047177       2.20291\n",
      "FRMD1           0.047229      -2.64049\n",
      "HNRNPA1P34      0.047364       3.04545\n",
      "ZNF771          0.047380       2.30083\n",
      "NOTUM           0.047488       2.74237\n",
      "RP1-37C10.3     0.047544     389.37500\n",
      "GLRA4           0.047963      -2.02751\n",
      "KLHL6           0.048345       3.98275\n",
      "GZMK            0.048356       2.77206\n",
      "CTD-2375G15.1   0.048616     -24.29900\n",
      "VWA2            0.048760      -2.51454\n",
      "SSR4            0.048763       2.54356\n",
      "ALG1L2          0.048925       4.08049\n",
      "RP11-65E22.2    0.048952      -3.75552\n",
      "TNFSF13B        0.048990       3.31470\n",
      "PPIAP19         0.048993      -2.15405\n",
      "PKI55           0.049292     -13.00000\n",
      "CPNE6           0.049308      -4.14210\n",
      "MUC12           0.049414      -3.32946\n",
      "SNAI3-AS1       0.049418     -15.29480\n",
      "RPL3P1          0.049436      -2.00534\n",
      "IGHV3-23        0.049529       8.40739\n",
      "CTD-2105E13.15  0.049576      -3.31984\n",
      "LAMB3           0.049591      -2.59782\n",
      "AC007292.6      0.049633       3.42445\n",
      "VDAC1P7         0.049717      -2.93836\n",
      "C3orf67         0.049901       2.03452\n",
      "SLFN11          0.049986       2.14545\n",
      "PIM2            0.049986       6.64598\n",
      "\n",
      "[555 rows x 2 columns]\n"
     ]
    },
    {
     "data": {
      "text/plain": [
       "Gene Symbol\n",
       "CH507-513H4.4     0.000050\n",
       "THSD4             0.000548\n",
       "UGT1A2P           0.000780\n",
       "IRGM              0.000830\n",
       "ADRA1B            0.001079\n",
       "EGFR-AS1          0.001128\n",
       "RP11-771F20.1     0.001146\n",
       "AC114812.5        0.001345\n",
       "TRIM69            0.001421\n",
       "FMO6P             0.001564\n",
       "PCK1              0.001630\n",
       "IL2RA             0.001631\n",
       "HOXD1             0.002000\n",
       "IGHV2-5           0.002094\n",
       "SH2D2A            0.002348\n",
       "RPS3AP39          0.002439\n",
       "SLC25A42          0.002445\n",
       "FOXD1             0.002459\n",
       "RP11-198M15.1     0.002591\n",
       "UGT1A7            0.002685\n",
       "RP11-84H6.1       0.002865\n",
       "TNFSF9            0.002973\n",
       "NPY1R             0.002976\n",
       "UGT1A6            0.003084\n",
       "PTPRG-AS1         0.003216\n",
       "NEU4              0.003261\n",
       "SERPINF2          0.003294\n",
       "PPIEL             0.003331\n",
       "RIMS2             0.003362\n",
       "SPIB              0.003445\n",
       "                    ...   \n",
       "IGLC3             0.046839\n",
       "DENND2C           0.047177\n",
       "FRMD1             0.047229\n",
       "HNRNPA1P34        0.047364\n",
       "ZNF771            0.047380\n",
       "NOTUM             0.047488\n",
       "RP1-37C10.3       0.047544\n",
       "GLRA4             0.047963\n",
       "KLHL6             0.048345\n",
       "GZMK              0.048356\n",
       "CTD-2375G15.1     0.048616\n",
       "VWA2              0.048760\n",
       "SSR4              0.048763\n",
       "ALG1L2            0.048925\n",
       "RP11-65E22.2      0.048952\n",
       "TNFSF13B          0.048990\n",
       "PPIAP19           0.048993\n",
       "PKI55             0.049292\n",
       "CPNE6             0.049308\n",
       "MUC12             0.049414\n",
       "SNAI3-AS1         0.049418\n",
       "RPL3P1            0.049436\n",
       "IGHV3-23          0.049529\n",
       "CTD-2105E13.15    0.049576\n",
       "LAMB3             0.049591\n",
       "AC007292.6        0.049633\n",
       "VDAC1P7           0.049717\n",
       "C3orf67           0.049901\n",
       "SLFN11            0.049986\n",
       "PIM2              0.049986\n",
       "Name: p_value, Length: 555, dtype: float64"
      ]
     },
     "execution_count": 4,
     "metadata": {},
     "output_type": "execute_result"
    }
   ],
   "source": [
    "%matplotlib inline\n",
    "import pandas as pd\n",
    "import numpy as np\n",
    "import matplotlib.pyplot as plt\n",
    "\n",
    "df =pd.read_csv(\"Cutoffed_Genes_Results.csv\", index_col =0,)\n",
    "df.shape\n",
    "number_of_genes =len(df.index)\n",
    "print(number_of_genes)\n",
    "print(df)\n",
    "df['p_value']"
   ]
  },
  {
   "cell_type": "code",
   "execution_count": 6,
   "metadata": {},
   "outputs": [
    {
     "ename": "TypeError",
     "evalue": "assign() missing 1 required positional argument: 'self'",
     "output_type": "error",
     "traceback": [
      "\u001b[1;31m---------------------------------------------------------------------------\u001b[0m",
      "\u001b[1;31mTypeError\u001b[0m                                 Traceback (most recent call last)",
      "\u001b[1;32m<ipython-input-6-0b462ae8afeb>\u001b[0m in \u001b[0;36m<module>\u001b[1;34m()\u001b[0m\n\u001b[0;32m      5\u001b[0m \u001b[0mp_value\u001b[0m \u001b[1;33m=\u001b[0m \u001b[0mdf\u001b[0m\u001b[1;33m[\u001b[0m\u001b[1;34m'p_value'\u001b[0m\u001b[1;33m]\u001b[0m\u001b[1;33m\u001b[0m\u001b[0m\n\u001b[0;32m      6\u001b[0m \u001b[1;33m\u001b[0m\u001b[0m\n\u001b[1;32m----> 7\u001b[1;33m \u001b[0mdf\u001b[0m\u001b[1;33m=\u001b[0m\u001b[0mpd\u001b[0m\u001b[1;33m.\u001b[0m\u001b[0mDataFrame\u001b[0m\u001b[1;33m.\u001b[0m\u001b[0massign\u001b[0m\u001b[1;33m(\u001b[0m\u001b[0mlog10p\u001b[0m \u001b[1;33m=\u001b[0m \u001b[0mnp\u001b[0m\u001b[1;33m.\u001b[0m\u001b[0mlog10\u001b[0m\u001b[1;33m(\u001b[0m\u001b[0mp_value\u001b[0m\u001b[1;33m)\u001b[0m\u001b[1;33m)\u001b[0m\u001b[1;33m\u001b[0m\u001b[0m\n\u001b[0m\u001b[0;32m      8\u001b[0m \u001b[0mdf\u001b[0m\u001b[1;33m=\u001b[0m\u001b[0mpd\u001b[0m\u001b[1;33m.\u001b[0m\u001b[0mDataFrame\u001b[0m\u001b[1;33m.\u001b[0m\u001b[0massign\u001b[0m\u001b[1;33m(\u001b[0m\u001b[0mlog2fc\u001b[0m\u001b[1;33m=\u001b[0m\u001b[0mnp\u001b[0m\u001b[1;33m.\u001b[0m\u001b[0mlog2\u001b[0m\u001b[1;33m(\u001b[0m\u001b[0mfold_changes\u001b[0m\u001b[1;33m)\u001b[0m\u001b[1;33m)\u001b[0m\u001b[1;33m\u001b[0m\u001b[0m\n\u001b[0;32m      9\u001b[0m \u001b[0mpd\u001b[0m\u001b[1;33m.\u001b[0m\u001b[0mdf\u001b[0m\u001b[1;33m.\u001b[0m\u001b[0mplot\u001b[0m\u001b[1;33m.\u001b[0m\u001b[0mscale\u001b[0m\u001b[1;33m.\u001b[0m\u001b[0mscatter\u001b[0m\u001b[1;33m(\u001b[0m\u001b[0mlog2fc\u001b[0m\u001b[1;33m,\u001b[0m\u001b[0mlog10p\u001b[0m\u001b[1;33m)\u001b[0m\u001b[1;33m\u001b[0m\u001b[0m\n",
      "\u001b[1;31mTypeError\u001b[0m: assign() missing 1 required positional argument: 'self'"
     ]
    }
   ],
   "source": [
    "import pandas as pd\n",
    "import numpy as np\n",
    "import matplotlib.pyplot as plt\n",
    "\n",
    "df = pd.read_csv(\"Cutoffed_Genes_Results.csv\", index_col =0)\n",
    "fold_changes = df['fold_changes']\n",
    "p_value = df['p_value']\n",
    "\n",
    "df=pd.DataFrame.assign(log10p = np.log10(p_value))\n",
    "df=pd.DataFrame.assign(log2fc=np.log2(fold_changes))\n",
    "pd.df.plot.scale.scatter(log2fc,log10p)\n"
   ]
  },
  {
   "cell_type": "code",
   "execution_count": null,
   "metadata": {
    "collapsed": true
   },
   "outputs": [],
   "source": []
  }
 ],
 "metadata": {
  "kernelspec": {
   "display_name": "Python 3",
   "language": "python",
   "name": "python3"
  },
  "language_info": {
   "codemirror_mode": {
    "name": "ipython",
    "version": 3
   },
   "file_extension": ".py",
   "mimetype": "text/x-python",
   "name": "python",
   "nbconvert_exporter": "python",
   "pygments_lexer": "ipython3",
   "version": "3.6.1"
  }
 },
 "nbformat": 4,
 "nbformat_minor": 2
}
